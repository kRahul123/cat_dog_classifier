{
 "cells": [
  {
   "cell_type": "code",
   "execution_count": 1,
   "metadata": {},
   "outputs": [],
   "source": [
    "import tensorflow as tf\n",
    "from tensorflow.keras.models import Sequential\n",
    "from tensorflow.keras.layers import Dense,Conv2D, Flatten, Dropout, MaxPooling2D\n",
    "from tensorflow.keras.preprocessing.image import ImageDataGenerator\n",
    "\n",
    "import os\n",
    "import numpy as np\n",
    "import matplotlib.pyplot as plt\n"
   ]
  },
  {
   "cell_type": "code",
   "execution_count": 2,
   "metadata": {},
   "outputs": [],
   "source": [
    "train_dir='class_data/train'\n",
    "validation_dir='class_data/validation'\n",
    "test_dir='class_data/test'"
   ]
  },
  {
   "cell_type": "code",
   "execution_count": 3,
   "metadata": {},
   "outputs": [],
   "source": [
    "batch_size=100\n",
    "epochs=50\n",
    "IMG_HEIGHT=125\n",
    "IMG_WIDTH=125"
   ]
  },
  {
   "cell_type": "code",
   "execution_count": 4,
   "metadata": {},
   "outputs": [],
   "source": [
    "train_image_generator=ImageDataGenerator(\n",
    "                        rescale=1./255,\n",
    "                        rotation_range=45,\n",
    "                        width_shift_range=.15,\n",
    "                        height_shift_range=.15,\n",
    "                        horizontal_flip=True,\n",
    "                        zoom_range=0.5\n",
    "                        )\n",
    "validation_image_generator=ImageDataGenerator(rescale=1./255)\n",
    "test_image_generator=ImageDataGenerator(rescale=1./255)"
   ]
  },
  {
   "cell_type": "code",
   "execution_count": 5,
   "metadata": {},
   "outputs": [
    {
     "name": "stdout",
     "output_type": "stream",
     "text": [
      "Found 15000 images belonging to 2 classes.\n"
     ]
    }
   ],
   "source": [
    "train_data_gen=train_image_generator.flow_from_directory(batch_size=batch_size,directory=train_dir,shuffle=True,target_size=(IMG_HEIGHT,IMG_WIDTH),class_mode='binary',color_mode='grayscale')"
   ]
  },
  {
   "cell_type": "code",
   "execution_count": 6,
   "metadata": {},
   "outputs": [
    {
     "name": "stdout",
     "output_type": "stream",
     "text": [
      "Found 5000 images belonging to 2 classes.\n"
     ]
    }
   ],
   "source": [
    "validation_data_gen=validation_image_generator.flow_from_directory(batch_size=batch_size,directory=validation_dir,shuffle=True,target_size=(IMG_HEIGHT,IMG_WIDTH),class_mode='binary',color_mode='grayscale')"
   ]
  },
  {
   "cell_type": "code",
   "execution_count": 7,
   "metadata": {},
   "outputs": [
    {
     "name": "stdout",
     "output_type": "stream",
     "text": [
      "Found 5000 images belonging to 2 classes.\n"
     ]
    }
   ],
   "source": [
    "test_data_gen=test_image_generator.flow_from_directory(batch_size=batch_size,directory=test_dir,shuffle=True,target_size=(IMG_HEIGHT,IMG_WIDTH),class_mode='binary',color_mode='grayscale')"
   ]
  },
  {
   "cell_type": "code",
   "execution_count": 8,
   "metadata": {},
   "outputs": [
    {
     "data": {
      "text/plain": [
       "<tensorflow.python.distribute.distribute_lib._DefaultDistributionStrategy at 0x7f21c2de4d90>"
      ]
     },
     "execution_count": 8,
     "metadata": {},
     "output_type": "execute_result"
    }
   ],
   "source": [
    "tf.distribute.get_strategy()"
   ]
  },
  {
   "cell_type": "code",
   "execution_count": 9,
   "metadata": {},
   "outputs": [
    {
     "name": "stdout",
     "output_type": "stream",
     "text": [
      "Model: \"sequential\"\n",
      "_________________________________________________________________\n",
      "Layer (type)                 Output Shape              Param #   \n",
      "=================================================================\n",
      "conv2d (Conv2D)              (None, 125, 125, 16)      416       \n",
      "_________________________________________________________________\n",
      "max_pooling2d (MaxPooling2D) (None, 62, 62, 16)        0         \n",
      "_________________________________________________________________\n",
      "conv2d_1 (Conv2D)            (None, 62, 62, 32)        12832     \n",
      "_________________________________________________________________\n",
      "max_pooling2d_1 (MaxPooling2 (None, 31, 31, 32)        0         \n",
      "_________________________________________________________________\n",
      "conv2d_2 (Conv2D)            (None, 31, 31, 64)        51264     \n",
      "_________________________________________________________________\n",
      "max_pooling2d_2 (MaxPooling2 (None, 15, 15, 64)        0         \n",
      "_________________________________________________________________\n",
      "conv2d_3 (Conv2D)            (None, 15, 15, 128)       204928    \n",
      "_________________________________________________________________\n",
      "max_pooling2d_3 (MaxPooling2 (None, 7, 7, 128)         0         \n",
      "_________________________________________________________________\n",
      "dropout (Dropout)            (None, 7, 7, 128)         0         \n",
      "_________________________________________________________________\n",
      "flatten (Flatten)            (None, 6272)              0         \n",
      "_________________________________________________________________\n",
      "dense (Dense)                (None, 512)               3211776   \n",
      "_________________________________________________________________\n",
      "dense_1 (Dense)              (None, 1)                 513       \n",
      "=================================================================\n",
      "Total params: 3,481,729\n",
      "Trainable params: 3,481,729\n",
      "Non-trainable params: 0\n",
      "_________________________________________________________________\n"
     ]
    }
   ],
   "source": [
    "model=Sequential([\n",
    "    Conv2D(16,5,padding='same',activation='relu',input_shape=(IMG_HEIGHT,IMG_WIDTH,1)),\n",
    "    MaxPooling2D(),\n",
    "    Conv2D(32,5,padding='same',activation='relu'),\n",
    "    MaxPooling2D(),\n",
    "    Conv2D(64,5,padding='same',activation='relu'),\n",
    "    MaxPooling2D(),\n",
    "    Conv2D(128,5,padding='same',activation='relu'),\n",
    "    MaxPooling2D(),\n",
    "    Dropout(0.2),\n",
    "    Flatten(),\n",
    "    Dense(512,activation='relu'),\n",
    "    Dense(1)\n",
    "    \n",
    "])\n",
    "\n",
    "model.compile(optimizer='adam',\n",
    "             loss=tf.keras.losses.BinaryCrossentropy(from_logits=True),\n",
    "             metrics=['accuracy'])\n",
    "model.summary()"
   ]
  },
  {
   "cell_type": "code",
   "execution_count": null,
   "metadata": {
    "scrolled": false
   },
   "outputs": [
    {
     "name": "stdout",
     "output_type": "stream",
     "text": [
      "Train for 150 steps, validate for 50 steps\n",
      "Epoch 1/50\n",
      "150/150 [==============================] - 281s 2s/step - loss: 0.6911 - accuracy: 0.5062 - val_loss: 0.7016 - val_accuracy: 0.5936\n",
      "Epoch 2/50\n",
      "150/150 [==============================] - 276s 2s/step - loss: 0.6850 - accuracy: 0.5025 - val_loss: 0.6816 - val_accuracy: 0.5000\n",
      "Epoch 3/50\n",
      "150/150 [==============================] - 278s 2s/step - loss: 0.6737 - accuracy: 0.5414 - val_loss: 0.6608 - val_accuracy: 0.5564\n",
      "Epoch 4/50\n",
      "150/150 [==============================] - 279s 2s/step - loss: 0.6585 - accuracy: 0.5762 - val_loss: 0.6303 - val_accuracy: 0.6178\n",
      "Epoch 5/50\n",
      "150/150 [==============================] - 286s 2s/step - loss: 0.6522 - accuracy: 0.5861 - val_loss: 0.6121 - val_accuracy: 0.6598\n",
      "Epoch 6/50\n",
      "150/150 [==============================] - 291s 2s/step - loss: 0.6372 - accuracy: 0.6121 - val_loss: 0.6099 - val_accuracy: 0.7012\n",
      "Epoch 7/50\n",
      "150/150 [==============================] - 316s 2s/step - loss: 0.6135 - accuracy: 0.6379 - val_loss: 0.5483 - val_accuracy: 0.7322\n",
      "Epoch 8/50\n",
      "150/150 [==============================] - 316s 2s/step - loss: 0.5844 - accuracy: 0.6723 - val_loss: 0.5410 - val_accuracy: 0.7480\n",
      "Epoch 9/50\n",
      "150/150 [==============================] - 316s 2s/step - loss: 0.5808 - accuracy: 0.6767 - val_loss: 0.5038 - val_accuracy: 0.7596\n",
      "Epoch 10/50\n",
      "150/150 [==============================] - 317s 2s/step - loss: 0.5576 - accuracy: 0.6928 - val_loss: 0.5253 - val_accuracy: 0.7702\n",
      "Epoch 11/50\n",
      "150/150 [==============================] - 317s 2s/step - loss: 0.5412 - accuracy: 0.7109 - val_loss: 0.4523 - val_accuracy: 0.7704\n",
      "Epoch 12/50\n",
      "150/150 [==============================] - 317s 2s/step - loss: 0.5274 - accuracy: 0.7189 - val_loss: 0.4675 - val_accuracy: 0.7854\n",
      "Epoch 13/50\n",
      "150/150 [==============================] - 318s 2s/step - loss: 0.5098 - accuracy: 0.7325 - val_loss: 0.4293 - val_accuracy: 0.8082\n",
      "Epoch 14/50\n",
      "150/150 [==============================] - 285s 2s/step - loss: 0.4932 - accuracy: 0.7427 - val_loss: 0.4334 - val_accuracy: 0.8124\n",
      "Epoch 15/50\n",
      "150/150 [==============================] - 317s 2s/step - loss: 0.4870 - accuracy: 0.7497 - val_loss: 0.3905 - val_accuracy: 0.8094\n",
      "Epoch 16/50\n",
      "150/150 [==============================] - 317s 2s/step - loss: 0.4662 - accuracy: 0.7667 - val_loss: 0.3771 - val_accuracy: 0.8254\n",
      "Epoch 17/50\n",
      "150/150 [==============================] - 322s 2s/step - loss: 0.4646 - accuracy: 0.7645 - val_loss: 0.3904 - val_accuracy: 0.8378\n",
      "Epoch 18/50\n",
      "150/150 [==============================] - 319s 2s/step - loss: 0.4549 - accuracy: 0.7743 - val_loss: 0.3563 - val_accuracy: 0.8328\n",
      "Epoch 19/50\n",
      "150/150 [==============================] - 323s 2s/step - loss: 0.4462 - accuracy: 0.7775 - val_loss: 0.3827 - val_accuracy: 0.8366\n",
      "Epoch 20/50\n",
      "150/150 [==============================] - 320s 2s/step - loss: 0.4372 - accuracy: 0.7829 - val_loss: 0.3846 - val_accuracy: 0.8492\n",
      "Epoch 21/50\n",
      "150/150 [==============================] - 322s 2s/step - loss: 0.4234 - accuracy: 0.7911 - val_loss: 0.3374 - val_accuracy: 0.8518\n",
      "Epoch 22/50\n",
      "150/150 [==============================] - 322s 2s/step - loss: 0.4226 - accuracy: 0.7911 - val_loss: 0.3636 - val_accuracy: 0.8478\n",
      "Epoch 23/50\n",
      "150/150 [==============================] - 322s 2s/step - loss: 0.4074 - accuracy: 0.8006 - val_loss: 0.3418 - val_accuracy: 0.8622\n",
      "Epoch 24/50\n",
      "150/150 [==============================] - 322s 2s/step - loss: 0.3980 - accuracy: 0.8056 - val_loss: 0.3367 - val_accuracy: 0.8558\n",
      "Epoch 25/50\n",
      "150/150 [==============================] - 322s 2s/step - loss: 0.3923 - accuracy: 0.8097 - val_loss: 0.3233 - val_accuracy: 0.8498\n",
      "Epoch 26/50\n",
      "150/150 [==============================] - 323s 2s/step - loss: 0.4063 - accuracy: 0.7987 - val_loss: 0.3351 - val_accuracy: 0.8430\n",
      "Epoch 27/50\n",
      "150/150 [==============================] - 311s 2s/step - loss: 0.3877 - accuracy: 0.8121 - val_loss: 0.3220 - val_accuracy: 0.8406\n",
      "Epoch 28/50\n",
      "150/150 [==============================] - 313s 2s/step - loss: 0.3839 - accuracy: 0.8145 - val_loss: 0.3099 - val_accuracy: 0.8516\n",
      "Epoch 29/50\n",
      "150/150 [==============================] - 311s 2s/step - loss: 0.3803 - accuracy: 0.8175 - val_loss: 0.2919 - val_accuracy: 0.8694\n",
      "Epoch 30/50\n",
      "150/150 [==============================] - 313s 2s/step - loss: 0.3787 - accuracy: 0.8157 - val_loss: 0.4320 - val_accuracy: 0.8322\n",
      "Epoch 31/50\n",
      "150/150 [==============================] - 313s 2s/step - loss: 0.3794 - accuracy: 0.8155 - val_loss: 0.3075 - val_accuracy: 0.8732\n",
      "Epoch 32/50\n",
      "150/150 [==============================] - 315s 2s/step - loss: 0.3700 - accuracy: 0.8202 - val_loss: 0.3701 - val_accuracy: 0.8580\n",
      "Epoch 33/50\n",
      "150/150 [==============================] - 315s 2s/step - loss: 0.3645 - accuracy: 0.8239 - val_loss: 0.2827 - val_accuracy: 0.8756\n",
      "Epoch 34/50\n",
      "150/150 [==============================] - 315s 2s/step - loss: 0.3569 - accuracy: 0.8312 - val_loss: 0.3126 - val_accuracy: 0.8482\n",
      "Epoch 35/50\n",
      "150/150 [==============================] - 317s 2s/step - loss: 0.3520 - accuracy: 0.8293 - val_loss: 0.2768 - val_accuracy: 0.8798\n",
      "Epoch 36/50\n",
      "150/150 [==============================] - 316s 2s/step - loss: 0.3539 - accuracy: 0.8312 - val_loss: 0.2693 - val_accuracy: 0.8754\n",
      "Epoch 37/50\n",
      "150/150 [==============================] - 314s 2s/step - loss: 0.3470 - accuracy: 0.8363 - val_loss: 0.3130 - val_accuracy: 0.8662\n",
      "Epoch 38/50\n",
      "150/150 [==============================] - 313s 2s/step - loss: 0.3406 - accuracy: 0.8401 - val_loss: 0.2808 - val_accuracy: 0.8778\n",
      "Epoch 39/50\n",
      "150/150 [==============================] - 314s 2s/step - loss: 0.3453 - accuracy: 0.8371 - val_loss: 0.2819 - val_accuracy: 0.8862\n",
      "Epoch 40/50\n",
      "150/150 [==============================] - 318s 2s/step - loss: 0.3404 - accuracy: 0.8391 - val_loss: 0.2743 - val_accuracy: 0.8870\n",
      "Epoch 41/50\n",
      "150/150 [==============================] - 316s 2s/step - loss: 0.3324 - accuracy: 0.8429 - val_loss: 0.2576 - val_accuracy: 0.8874\n",
      "Epoch 42/50\n",
      "150/150 [==============================] - 316s 2s/step - loss: 0.3422 - accuracy: 0.8381 - val_loss: 0.2682 - val_accuracy: 0.8870\n",
      "Epoch 43/50\n",
      "150/150 [==============================] - 317s 2s/step - loss: 0.3441 - accuracy: 0.8349 - val_loss: 0.2691 - val_accuracy: 0.8832\n",
      "Epoch 44/50\n",
      " 22/150 [===>..........................] - ETA: 8:46 - loss: 0.3241 - accuracy: 0.8555"
     ]
    }
   ],
   "source": [
    "# model=tf.keras.models.load_model('tf_model/MyModel')\n",
    "\n",
    "history=model.fit(\n",
    "    train_data_gen,\n",
    "    steps_per_epoch=int(15000/batch_size),\n",
    "    epochs=epochs,\n",
    "    validation_data=validation_data_gen,\n",
    "    validation_steps=int(5000/batch_size)\n",
    ")"
   ]
  },
  {
   "cell_type": "code",
   "execution_count": null,
   "metadata": {},
   "outputs": [],
   "source": [
    "model.save('gray_tf_model/MyModel',save_format='tf')"
   ]
  },
  {
   "cell_type": "code",
   "execution_count": null,
   "metadata": {},
   "outputs": [],
   "source": [
    "acc = history.history['accuracy']\n",
    "val_acc = history.history['val_accuracy']\n",
    "\n",
    "loss=history.history['loss']\n",
    "val_loss=history.history['val_loss']\n",
    "\n",
    "epochs_range = range(epochs)\n",
    "\n",
    "plt.figure(figsize=(8, 8))\n",
    "plt.subplot(1, 2, 1)\n",
    "plt.plot(epochs_range, acc, label='Training Accuracy')\n",
    "plt.plot(epochs_range, val_acc, label='Validation Accuracy')\n",
    "plt.legend(loc='lower right')\n",
    "plt.title('Training and Validation Accuracy')\n",
    "\n",
    "plt.subplot(1, 2, 2)\n",
    "plt.plot(epochs_range, loss, label='Training Loss')\n",
    "plt.plot(epochs_range, val_loss, label='Validation Loss')\n",
    "plt.legend(loc='upper right')\n",
    "plt.title('Training and Validation Loss')\n",
    "plt.show()"
   ]
  },
  {
   "cell_type": "code",
   "execution_count": null,
   "metadata": {},
   "outputs": [],
   "source": [
    "sample_test_image,_=next(test_data_gen)\n"
   ]
  },
  {
   "cell_type": "code",
   "execution_count": null,
   "metadata": {},
   "outputs": [],
   "source": [
    "def plotImages(images_arr):\n",
    "    fig, axes = plt.subplots(1, 5, figsize=(20,20))\n",
    "    axes = axes.flatten()\n",
    "    for img, ax in zip( images_arr, axes):\n",
    "        print(np.shape(img[:,:,0]))\n",
    "        \n",
    "        ax.imshow(img[:,:,0],cmap='gray',vmin=0,vmax=1)\n",
    "        ax.axis('off')\n",
    "    plt.tight_layout()\n",
    "    plt.show()\n",
    "\n",
    "\n",
    "plotImages(sample_test_image[:5])"
   ]
  },
  {
   "cell_type": "code",
   "execution_count": null,
   "metadata": {},
   "outputs": [],
   "source": [
    "model.predict(sample_test_image[:1])\n",
    "print(np.shape(sample_test_image[:1]))"
   ]
  },
  {
   "cell_type": "code",
   "execution_count": null,
   "metadata": {},
   "outputs": [],
   "source": [
    "output=model.evaluate(test_data_gen)"
   ]
  },
  {
   "cell_type": "code",
   "execution_count": null,
   "metadata": {},
   "outputs": [],
   "source": [
    "print(output)"
   ]
  },
  {
   "cell_type": "code",
   "execution_count": null,
   "metadata": {},
   "outputs": [],
   "source": [
    "np.shape(sample_test_image)"
   ]
  },
  {
   "cell_type": "code",
   "execution_count": null,
   "metadata": {},
   "outputs": [],
   "source": [
    "import time\n",
    "def plot_with_tag(img_arr):\n",
    "    for img in img_arr:\n",
    "        pred=model.predict(np.reshape(img,(1,100,100,1)))\n",
    "        plt.title('dog') if pred[0][0]>0 else plt.title('cat')\n",
    "        plt.imshow(img[:,:,0],cmap='gray',vmin=0,vmax=1)\n",
    "        plt.pause(0.5)\n",
    "       \n",
    "        \n",
    "    "
   ]
  },
  {
   "cell_type": "code",
   "execution_count": null,
   "metadata": {},
   "outputs": [],
   "source": [
    "plot_with_tag(sample_test_image[:10])"
   ]
  },
  {
   "cell_type": "code",
   "execution_count": null,
   "metadata": {},
   "outputs": [],
   "source": [
    "x=history.history['accuracy']"
   ]
  },
  {
   "cell_type": "code",
   "execution_count": null,
   "metadata": {},
   "outputs": [],
   "source": [
    "print(x)"
   ]
  },
  {
   "cell_type": "code",
   "execution_count": null,
   "metadata": {},
   "outputs": [],
   "source": [
    "print(history)"
   ]
  },
  {
   "cell_type": "code",
   "execution_count": null,
   "metadata": {},
   "outputs": [],
   "source": [
    "import pickle\n",
    "with open('gray_tf_model/historyDict','wb') as file_pi:\n",
    "    pickle.dump(history.history,file_pi)"
   ]
  },
  {
   "cell_type": "code",
   "execution_count": null,
   "metadata": {},
   "outputs": [],
   "source": [
    "import pickle\n",
    "history=pickle.load(open('gray_tf_model/historyDict','rb'))"
   ]
  },
  {
   "cell_type": "code",
   "execution_count": null,
   "metadata": {},
   "outputs": [],
   "source": [
    "x=history['accuracy']\n",
    "print(x)"
   ]
  },
  {
   "cell_type": "code",
   "execution_count": null,
   "metadata": {},
   "outputs": [],
   "source": []
  }
 ],
 "metadata": {
  "kernelspec": {
   "display_name": "Python 3",
   "language": "python",
   "name": "python3"
  },
  "language_info": {
   "codemirror_mode": {
    "name": "ipython",
    "version": 3
   },
   "file_extension": ".py",
   "mimetype": "text/x-python",
   "name": "python",
   "nbconvert_exporter": "python",
   "pygments_lexer": "ipython3",
   "version": "3.7.4"
  }
 },
 "nbformat": 4,
 "nbformat_minor": 2
}
