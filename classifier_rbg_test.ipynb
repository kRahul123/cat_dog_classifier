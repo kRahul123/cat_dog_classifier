{
 "cells": [
  {
   "cell_type": "code",
   "execution_count": 1,
   "metadata": {
    "scrolled": true
   },
   "outputs": [
    {
     "name": "stdout",
     "output_type": "stream",
     "text": [
      "Found 15000 images belonging to 2 classes.\n",
      "Found 5000 images belonging to 2 classes.\n",
      "Found 5000 images belonging to 2 classes.\n"
     ]
    }
   ],
   "source": [
    "import classifier_rbg_train as f\n",
    "import matplotlib.image as mpimg\n",
    "import numpy as np\n",
    "import matplotlib.pyplot as plt\n",
    "from PIL import Image as pilimg\n",
    "import datetime\n",
    "import os\n",
    "import re\n",
    "from tensorflow.keras.preprocessing.image import ImageDataGenerator\n",
    "from tqdm import tqdm"
   ]
  },
  {
   "cell_type": "code",
   "execution_count": 2,
   "metadata": {},
   "outputs": [],
   "source": [
    "def run_for_file(model,path,flag=False):\n",
    "    img=pilimg.open(path)\n",
    "    img=img.resize((f.IMG_HEIGHT,f.IMG_WIDTH))\n",
    "    img=np.divide(img,255)\n",
    "    img=np.reshape(img,(1,f.IMG_HEIGHT,f.IMG_WIDTH,3))\n",
    "    x=model.predict(img)\n",
    "    label=''\n",
    "    if x[0][0]>0:\n",
    "        label='Dog'\n",
    "    else:\n",
    "        label='Cat'\n",
    "    if flag:\n",
    "        plt.title(label)\n",
    "        plt.imshow(img[0])\n",
    "        plt.pause(1)\n",
    "    return label\n",
    "    "
   ]
  },
  {
   "cell_type": "code",
   "execution_count": 3,
   "metadata": {},
   "outputs": [],
   "source": [
    "def run_for_folder(model,path):\n",
    "    op_file_name='output_'+re.sub(\"[ :,.]\",\"\",str(datetime.datetime.now().time()))+'.txt'\n",
    "    with open(op_file_name,'w') as x:\n",
    "        for i in tqdm(os.listdir(path)):\n",
    "            file_path=os.path.join(path,i)\n",
    "            label=run_for_file(model,file_path)\n",
    "            x.write(i+\"   :    \"+label+'\\n')\n",
    "    print(\"output written to file \"+op_file_name)    \n",
    "    "
   ]
  },
  {
   "cell_type": "code",
   "execution_count": 4,
   "metadata": {},
   "outputs": [],
   "source": [
    "def run_for_accuracy(model,path):\n",
    "    test_image_generator=ImageDataGenerator(rescale=1./255)\n",
    "    test_data_generator=test_image_generator.flow_from_directory(batch_size=f.batch_size,directory=path,shuffle=True,target_size=(f.IMG_HEIGHT,f.IMG_WIDTH),class_mode='binary')\n",
    "    \n",
    "    \n",
    "    model.evaluate(test_data_generator)"
   ]
  },
  {
   "cell_type": "code",
   "execution_count": 5,
   "metadata": {},
   "outputs": [],
   "source": [
    "def run():\n",
    "    [model,history]=f.load_prev_state()\n",
    "    while True:\n",
    "        print(\"Choose option:\")\n",
    "        print(\"(1) input folder name for test\")\n",
    "        print(\"(2) input file name for test\")\n",
    "        print(\"(3) run for accuracy( need to enter properly formatted folder) \")\n",
    "        print(\"(4) show training statistics\")\n",
    "        print(\"(-1) exit \")\n",
    "        \n",
    "        option=input()\n",
    "        if option=='1':\n",
    "            path=input('Enter folder path\\n')\n",
    "            run_for_folder(model,path)\n",
    "        elif option=='2':\n",
    "            path=input('Enter file path\\n')\n",
    "            run_for_file(model,path,True)\n",
    "        elif option=='3':\n",
    "            path=input(\"enter folder path (folder should contain two subfolder named cat and dog)\\n\")\n",
    "            run_for_accuracy(model,path)\n",
    "        elif option=='4':\n",
    "            f.plot_train_status(history)\n",
    "        elif option=='-1':\n",
    "            break\n",
    "        else:\n",
    "            print('\\n\\nInvalid option, choose again!!\\n\\n')\n",
    "            \n",
    "    \n",
    "    \n"
   ]
  },
  {
   "cell_type": "code",
   "execution_count": null,
   "metadata": {},
   "outputs": [],
   "source": []
  },
  {
   "cell_type": "code",
   "execution_count": null,
   "metadata": {
    "scrolled": false
   },
   "outputs": [
    {
     "name": "stdout",
     "output_type": "stream",
     "text": [
      "Choose option:\n",
      "(1) input folder name for test\n",
      "(2) input file name for test\n",
      "(3) run for accuracy( need to enter properly formatted folder) \n",
      "(4) show training statistics\n",
      "(-1) exit \n",
      "1\n",
      "Enter folder path\n",
      "sample_data\n"
     ]
    },
    {
     "name": "stderr",
     "output_type": "stream",
     "text": [
      "100%|██████████| 70/70 [00:14<00:00,  4.95it/s]\n"
     ]
    },
    {
     "name": "stdout",
     "output_type": "stream",
     "text": [
      "output written to file output_184226333252.txt\n",
      "Choose option:\n",
      "(1) input folder name for test\n",
      "(2) input file name for test\n",
      "(3) run for accuracy( need to enter properly formatted folder) \n",
      "(4) show training statistics\n",
      "(-1) exit \n"
     ]
    }
   ],
   "source": [
    "if __name__==\"__main__\":\n",
    "    run()"
   ]
  },
  {
   "cell_type": "code",
   "execution_count": null,
   "metadata": {},
   "outputs": [],
   "source": []
  },
  {
   "cell_type": "code",
   "execution_count": null,
   "metadata": {},
   "outputs": [],
   "source": []
  }
 ],
 "metadata": {
  "kernelspec": {
   "display_name": "Python 3",
   "language": "python",
   "name": "python3"
  },
  "language_info": {
   "codemirror_mode": {
    "name": "ipython",
    "version": 3
   },
   "file_extension": ".py",
   "mimetype": "text/x-python",
   "name": "python",
   "nbconvert_exporter": "python",
   "pygments_lexer": "ipython3",
   "version": "3.7.4"
  }
 },
 "nbformat": 4,
 "nbformat_minor": 2
}
